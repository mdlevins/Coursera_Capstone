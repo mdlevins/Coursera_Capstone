{
 "metadata": {
  "language_info": {
   "codemirror_mode": {
    "name": "ipython",
    "version": 3
   },
   "file_extension": ".py",
   "mimetype": "text/x-python",
   "name": "python",
   "nbconvert_exporter": "python",
   "pygments_lexer": "ipython3",
   "version": 3
  },
  "orig_nbformat": 2
 },
 "nbformat": 4,
 "nbformat_minor": 2,
 "cells": [
  {
   "cell_type": "markdown",
   "metadata": {},
   "source": [
    "# Introduction/Business Problem\n",
    "\n",
    "Public safety is of the utmost importance and finding ways to make our roads and neighbourhoods safer is a goal that continues to be sought after. One source of issue relates to traffic incidents causing harm to drivers and pedestrians. These traffic incidents vary drastically in their severity from small automobile damage to collisions that result in fatalities. Stakeholders such as governments, enforcement groups and the general public all have a common goal of reducing the chances of serious incidents occurring thus increasing the safety of drivers and pedestrians. \n",
    "\n",
    "Therefore, the overall goal is to increase the safety of motorways and road networks by identifying the potential for a serious collision before the incident occurs. Understanding the trends and patterns that lead to these collisions can help government officials design and control the road system in a manner that is safer to the people who use it. It also allows current drivers to know if they need to be more cautious if their current conditions are identified as highly likely for a serious incident.\n",
    "This problem requires the use of data science as there are many factors that contribute to collisions such as weather, traffic volume, the driver’s state of mind and many more, plus the chances of unintuitive factors that may not be identified without the use of data science techniques. The goal is to identify the factors/patters that cause serious collisions, understand the magnitude of their individual impacts and develop a model that will predict the severity of a potential collision based on the current conditions. \n"
   ]
  }
 ]
}