{
 "metadata": {
  "language_info": {
   "codemirror_mode": {
    "name": "ipython",
    "version": 3
   },
   "file_extension": ".py",
   "mimetype": "text/x-python",
   "name": "python",
   "nbconvert_exporter": "python",
   "pygments_lexer": "ipython3",
   "version": 3
  },
  "orig_nbformat": 2
 },
 "nbformat": 4,
 "nbformat_minor": 2,
 "cells": [
  {
   "cell_type": "markdown",
   "metadata": {},
   "source": [
    "# Data\n",
    "To solve the problem of determining the severity of potential collisions, an effective dataset is required that has previous recorded incidents and their labeled severity along with the factors involved with that specific incident. Specifically, for this report, the dataset “Collisions – All Years” from SDOT Traffic Management Division will be used. This is a record of reported collisions in Seattle from 2004 to present day (September 2020). \n",
    "The important attribute of this dataset is the labelled severity of each incident which has the following possibilities:\n",
    "\n",
    "0 – Unknown\n",
    "1 – Property Damage\n",
    "2 – Injury\n",
    "2b – Serious Injury\n",
    "3 – Fatality\n",
    "\n",
    "Initially, it is known that this rating system will be challenging to use due to the mix of alphanumeric characters, therefore this rating system will need to be modified to a scale of 1 to 4 and replacing the ‘2b’ label with 3, the ‘3’ label with 4, and eliminating the ‘0’ label as the unknown severity incidents do not contribute to the main solution. \n",
    "There are many attributes in this dataset to help predict the severity label, and with minor adjustments in formatting, they will become effective predictors. The list of attributes used for this problem are noted below:\n",
    "\n",
    "-\tADDRTYPE (Collision address type)\n",
    "-\tINCDTTM (The date and time of the incident)\n",
    "-\tJUNCTIONTYPE (Category of junction)\n",
    "-\tUNDERINFL (If the driver was under the influence or not)\n",
    "-\tWEATHER (Description of the weather at the time of collision)\n",
    "-\tROADCOND (Description of the road conditions)\n",
    "-\tLIGHTCOND (Description of the lighting conditions)\n",
    "-\tPEDROWNOTGRNT (Whether or not the pedestrian right of was granted)\n",
    "-\tSPEEDING (If speeding was a factor)\n",
    "-\tST_COLCODE (Code relating to the description of the collision)\n",
    "-\tHITPARKEDCAR (Whether or not the collision involved hitting a parked car)\n",
    "\n",
    "For the attributes that are text descriptions (e.g. WEATHER), key words are isolated and used as the attribute for the prediction (e.g. “Rain”). Other formatting and data manipulation also helps other attributes work effectively with the model development.\n"
   ]
  }
 ]
}